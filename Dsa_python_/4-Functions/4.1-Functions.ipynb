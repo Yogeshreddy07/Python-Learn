{
 "cells": [
  {
   "cell_type": "markdown",
   "metadata": {},
   "source": [
    "<h1>Functions</h1>"
   ]
  },
  {
   "cell_type": "code",
   "execution_count": null,
   "metadata": {},
   "outputs": [],
   "source": [
    "#Functions\n",
    "\"\"\"\n",
    "**Note:\n",
    "--> A function is a block of code which only runs when it is called.\n",
    "--> You can pass data, known as parameters, into a function.\n",
    "--> A function can return data as a result.\n",
    "\"\"\"\n",
    "#Basic syntax\n",
    "def function_naame(parameters):\n",
    "    # Function Body\n",
    "    return expression\n",
    "\n"
   ]
  },
  {
   "cell_type": "code",
   "execution_count": null,
   "metadata": {},
   "outputs": [
    {
     "name": "stdout",
     "output_type": "stream",
     "text": [
      "The Number is even (22)\n",
      "The Number is odd (23)\n"
     ]
    }
   ],
   "source": [
    "def even_odd(number): #function\n",
    "    if number%2==0:\n",
    "        print(f\"The Number is even ({number})\")\n",
    "    else:\n",
    "        print(f\"The Number is odd ({number})\")\n",
    "        \n",
    "even_odd(22) #function call\n",
    "even_odd(23)"
   ]
  },
  {
   "cell_type": "code",
   "execution_count": 4,
   "metadata": {},
   "outputs": [
    {
     "name": "stdout",
     "output_type": "stream",
     "text": [
      "3\n"
     ]
    }
   ],
   "source": [
    "#function with multiple parameter\n",
    "def add(a,b):\n",
    "    sum=a+b\n",
    "    print(sum)\n",
    "add(1,2)"
   ]
  },
  {
   "cell_type": "code",
   "execution_count": null,
   "metadata": {},
   "outputs": [
    {
     "name": "stdout",
     "output_type": "stream",
     "text": [
      "hello yogesh ! welcome to college\n",
      "hello yogesh reddy ! welcome to college\n"
     ]
    }
   ],
   "source": [
    "#default parameter\n",
    "def greet(name=\"yogesh reddy\"): #default name\n",
    "    print(f\"hello {name} ! welcome to college\")\n",
    "\n",
    "greet(\"yogesh\") \n",
    "greet() \n"
   ]
  },
  {
   "cell_type": "code",
   "execution_count": null,
   "metadata": {},
   "outputs": [
    {
     "name": "stdout",
     "output_type": "stream",
     "text": [
      "1\n",
      "2\n",
      "3\n",
      "4\n",
      "5\n",
      "6\n",
      "Yogesh reddy\n"
     ]
    }
   ],
   "source": [
    "#variable length arguments.\n",
    "#positional and keywords arguments.\n",
    "\n",
    "#positional arguments\n",
    "def print_numbers(*args):\n",
    "    for number in args:\n",
    "        print(number)\n",
    "print_numbers(1,2,3,4,5,6,\"Yogesh reddy\")"
   ]
  },
  {
   "cell_type": "code",
   "execution_count": 10,
   "metadata": {},
   "outputs": [],
   "source": [
    "#keywords Arguments\n",
    "\n",
    "def print_details(**kwargs):\n",
    "    for key,value in kwargs.items():\n",
    "        print(f\"{key}:{value}\")"
   ]
  },
  {
   "cell_type": "code",
   "execution_count": 11,
   "metadata": {},
   "outputs": [
    {
     "name": "stdout",
     "output_type": "stream",
     "text": [
      "name:yogesh reddy\n",
      "age:21\n",
      "country:india\n"
     ]
    }
   ],
   "source": [
    "print_details(name=\"yogesh reddy\",age=21,country=\"india\")"
   ]
  },
  {
   "cell_type": "code",
   "execution_count": 17,
   "metadata": {},
   "outputs": [
    {
     "name": "stdout",
     "output_type": "stream",
     "text": [
      "1\n",
      "2\n",
      "3\n",
      "4\n",
      "5\n",
      "6\n",
      "Yogesh reddy\n",
      "\n",
      "\n",
      "name: yogesh\n",
      "age: 21\n",
      "country: india\n"
     ]
    }
   ],
   "source": [
    "#variable length arguments and keywords Arguments \n",
    "def print_details(*args, **kwargs):\n",
    "    for number in args:\n",
    "        print(number)\n",
    "    print(\"\\n\")\n",
    "    for key, value in kwargs.items():\n",
    "        print(f\"{key}: {value}\")\n",
    "print_details(1, 2, 3, 4, 5, 6, \"Yogesh reddy\", name=\"yogesh\", age=21, country=\"india\")"
   ]
  },
  {
   "cell_type": "code",
   "execution_count": 18,
   "metadata": {},
   "outputs": [
    {
     "data": {
      "text/plain": [
       "12"
      ]
     },
     "execution_count": 18,
     "metadata": {},
     "output_type": "execute_result"
    }
   ],
   "source": [
    "# Return function\n",
    "def mul(a,b):\n",
    "    return a*b\n",
    "mul(3,4)\n"
   ]
  }
 ],
 "metadata": {
  "kernelspec": {
   "display_name": "Python 3",
   "language": "python",
   "name": "python3"
  },
  "language_info": {
   "codemirror_mode": {
    "name": "ipython",
    "version": 3
   },
   "file_extension": ".py",
   "mimetype": "text/x-python",
   "name": "python",
   "nbconvert_exporter": "python",
   "pygments_lexer": "ipython3",
   "version": "3.13.0"
  }
 },
 "nbformat": 4,
 "nbformat_minor": 2
}
