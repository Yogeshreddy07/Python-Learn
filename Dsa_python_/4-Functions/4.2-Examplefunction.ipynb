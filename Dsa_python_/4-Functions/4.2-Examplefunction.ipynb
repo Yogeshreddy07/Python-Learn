{
 "cells": [
  {
   "cell_type": "markdown",
   "metadata": {},
   "source": [
    "<h1>Function Example's  </h1>"
   ]
  },
  {
   "cell_type": "code",
   "execution_count": null,
   "metadata": {},
   "outputs": [
    {
     "name": "stdout",
     "output_type": "stream",
     "text": [
      "fahrenheit :131.00\n",
      "celsius :55.00\n"
     ]
    }
   ],
   "source": [
    "#temperature conversion\n",
    "def cel_fahr(cel):\n",
    "    far=cel*(9/5)+32\n",
    "    print(f\"fahrenheit :{far:.2f}\")\n",
    "def fahr_cel(far):\n",
    "    cel=(far-32)*(5/9)\n",
    "    print(f\"celsius :{cel:.2f}\")\n",
    "cel_fahr(55)\n",
    "fahr_cel(131.00)"
   ]
  },
  {
   "cell_type": "code",
   "execution_count": null,
   "metadata": {},
   "outputs": [
    {
     "name": "stdout",
     "output_type": "stream",
     "text": [
      "fahrenheit :131.00\n",
      "celsius :55.00\n"
     ]
    }
   ],
   "source": [
    "#temperature conversion\n",
    "def convert_temp(temp,unit):\n",
    "    \"\"\"This function convert tem between\"\"\"\n",
    "    if unit==\"c\":\n",
    "        cel=(temp-32)*(5/9)\n",
    "        print(f\"celsius :{cel:.2f}\")\n",
    "    elif unit==\"f\":\n",
    "        far=temp*(9/5)+32\n",
    "        print(f\"fahrenheit :{far:.2f}\")\n",
    "    else:\n",
    "        print(\"Enter the valid unit(c or f) \")\n",
    "convert_temp(55,\"f\")\n",
    "convert_temp(131,\"c\")"
   ]
  },
  {
   "cell_type": "code",
   "execution_count": null,
   "metadata": {},
   "outputs": [
    {
     "name": "stdout",
     "output_type": "stream",
     "text": [
      "strong_password : Au@123Auu% -->True\n",
      "strong_password : asdfgfd    -->False\n",
      "strong_password : QWERTYU    -->False\n",
      "strong_password : weR32      -->False\n"
     ]
    }
   ],
   "source": [
    "#Password Checker strong/week\n",
    "def is_strong_password(passward):\n",
    "    if len(passward)<8:\n",
    "        return False\n",
    "    if not any(chr.isdigit() for chr in passward):\n",
    "        return False\n",
    "    if not any(chr.islower() for chr in passward):\n",
    "        return False\n",
    "    if not any(chr.isupper() for chr in passward):\n",
    "        return False\n",
    "    if not any(chr in '!@#$%^&*()_+' for chr in passward):\n",
    "        return False\n",
    "    return True\n",
    "print(f'strong_password : Au@123Auu% -->{is_strong_password(\"Au@123Auu%\")}')\n",
    "print(f'strong_password : asdfgfd    -->{is_strong_password(\"asdfgfd\")}')\n",
    "print(f'strong_password : QWERTYU    -->{is_strong_password(\"QWERTYU\")}')\n",
    "print(f'strong_password : weR32      -->{is_strong_password(\"weR32\")}')\n"
   ]
  },
  {
   "cell_type": "code",
   "execution_count": null,
   "metadata": {},
   "outputs": [
    {
     "data": {
      "text/plain": [
       "5.8999999999999995"
      ]
     },
     "execution_count": 20,
     "metadata": {},
     "output_type": "execute_result"
    }
   ],
   "source": [
    "#cart price calculator for shoping\n",
    "\n",
    "def total_cost_find(cart):\n",
    "    total_cost=0\n",
    "    for i in cart:\n",
    "        total_cost+=i['price']* i['quantity']\n",
    "    return total_cost\n",
    "cart=[\n",
    "    {'name':\"apple\",'price':0.5,'quantity':4},\n",
    "    {'name':\"Banana\",'price':0.3,'quantity':6},\n",
    "    {'name':\"Green apple\",'price':0.7,'quantity':3},\n",
    "]\n",
    "#calling the function\n",
    "total_cost_find(cart)"
   ]
  },
  {
   "cell_type": "code",
   "execution_count": 31,
   "metadata": {},
   "outputs": [
    {
     "name": "stdout",
     "output_type": "stream",
     "text": [
      "maisasselflessasiam is a palindrome\n",
      "hello is not a palindrome\n"
     ]
    }
   ],
   "source": [
    "#palindrome finder ->palindrome or not a palindrome\n",
    "def palindrome(string):\n",
    "    string=string.lower().replace(\" \",\"\")\n",
    "    s1=string[::-1]\n",
    "    if string==s1:\n",
    "        print(f\"{string} is a palindrome\")\n",
    "    else:\n",
    "        print(f\"{string} is not a palindrome\")\n",
    "palindrome(\"Ma is as selfless as I am\")\n",
    "palindrome(\"Hello\")\n"
   ]
  },
  {
   "cell_type": "code",
   "execution_count": 33,
   "metadata": {},
   "outputs": [
    {
     "data": {
      "text/plain": [
       "720"
      ]
     },
     "execution_count": 33,
     "metadata": {},
     "output_type": "execute_result"
    }
   ],
   "source": [
    "#calculate the factorial od the number using recursion\n",
    "def factorial(n):\n",
    "    if n==0:\n",
    "        return(1)\n",
    "    else:\n",
    "        return n* factorial(n-1)\n",
    "factorial(6)"
   ]
  }
 ],
 "metadata": {
  "kernelspec": {
   "display_name": "Python 3",
   "language": "python",
   "name": "python3"
  },
  "language_info": {
   "codemirror_mode": {
    "name": "ipython",
    "version": 3
   },
   "file_extension": ".py",
   "mimetype": "text/x-python",
   "name": "python",
   "nbconvert_exporter": "python",
   "pygments_lexer": "ipython3",
   "version": "3.13.0"
  }
 },
 "nbformat": 4,
 "nbformat_minor": 2
}
