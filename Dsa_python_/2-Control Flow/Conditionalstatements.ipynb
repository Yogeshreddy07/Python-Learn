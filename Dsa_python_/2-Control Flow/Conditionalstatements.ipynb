{
 "cells": [
  {
   "cell_type": "markdown",
   "metadata": {},
   "source": [
    "<h1>Conditional Statements </h1>"
   ]
  },
  {
   "cell_type": "code",
   "execution_count": null,
   "metadata": {},
   "outputs": [
    {
     "name": "stdout",
     "output_type": "stream",
     "text": [
      "You are allowed to vote.\n"
     ]
    }
   ],
   "source": [
    "#if Statement\n",
    "age=20\n",
    "if age>18:\n",
    "    print(\"You are allowed to vote.\")\n",
    "else: #used when if block condition is False\n",
    "    print(\"You are not allowed to vote\")\n"
   ]
  },
  {
   "cell_type": "code",
   "execution_count": 4,
   "metadata": {},
   "outputs": [
    {
     "name": "stdout",
     "output_type": "stream",
     "text": [
      "You are teenager.\n"
     ]
    }
   ],
   "source": [
    "#elif\n",
    "#used to check multiple conditions\n",
    "age=17\n",
    "if age <13:\n",
    "    print(\"You are a child\")\n",
    "elif age<18:\n",
    "    print(\"You are teenager.\")\n",
    "else: #used when if block condition is False\n",
    "    print(\"You are a adult.\")"
   ]
  },
  {
   "cell_type": "code",
   "execution_count": null,
   "metadata": {},
   "outputs": [
    {
     "name": "stdout",
     "output_type": "stream",
     "text": [
      "the inpus Num is:-1\n",
      "The number is Negtive\n",
      "The number is odd\n"
     ]
    }
   ],
   "source": [
    "#nested conditional statements\n",
    "#used inside another if-else block\n",
    "#code for odd or even and -ve or +ve\n",
    "num=int(input(\"Enter the number:\"))\n",
    "print(f\"the input Num is:{num}\")\n",
    "if num>=0:\n",
    "    print(\"Positive\")\n",
    "    if num%2==0:\n",
    "        print(\"The number is even\")\n",
    "    else:\n",
    "        print(\"The number is odd\")\n",
    "else:\n",
    "    print(\"The number is Negtive\")\n",
    "    if num%2==0:\n",
    "        print(\"The number is even\")\n",
    "    else:\n",
    "        print(\"The number is odd\")\n",
    "\n",
    "\n"
   ]
  },
  {
   "cell_type": "code",
   "execution_count": 15,
   "metadata": {},
   "outputs": [
    {
     "name": "stdout",
     "output_type": "stream",
     "text": [
      "the input year is:2024\n",
      "2024 is Leep Year\n"
     ]
    }
   ],
   "source": [
    "year=int(input(\"Enter the year:\"))\n",
    "print(f\"the input year is:{year}\")\n",
    "if year%4==0:\n",
    "    if year%100==0:\n",
    "        if year%400==0:\n",
    "            print(f\"{year} is Leep Year\")\n",
    "        else:\n",
    "            print(f\"{year} is Not a Leep Year\")         \n",
    "    else:\n",
    "        print(f\"{year} is Leep Year\")\n",
    "else:\n",
    "    print(f\"{year} is Not a Leep Year\")"
   ]
  },
  {
   "cell_type": "code",
   "execution_count": null,
   "metadata": {},
   "outputs": [
    {
     "name": "stdout",
     "output_type": "stream",
     "text": [
      "The operation is+\n",
      "Num1: 22\n",
      "Num2: 2\n",
      "sum:24\n"
     ]
    }
   ],
   "source": [
    "in1=input(\"Enter operation (+,-,*,/):\")\n",
    "print(f\"The operation is: {in1}\")\n",
    "num1=int(input(\"whats your num1:\"))\n",
    "print(f\"Num1: {num1}\")\n",
    "num2=int(input(\"whats your num2:\"))\n",
    "print(f\"Num2: {num2}\")\n",
    "if in1 ==\"+\":\n",
    "    print(f\"sum:{num1+num2}\")\n",
    "elif in1 ==\"-\":\n",
    "    print(f\"diff:{num1-num2}\")\n",
    "elif in1 ==\"*\":\n",
    "    print(f\"mul:{num1*num2}\")\n",
    "elif in1 ==\"/\":\n",
    "    if num2!=0:\n",
    "        print(f\"div:{num1/num2}\")\n",
    "    else:\n",
    "        print(\"Error! ,Division By Zero.\")\n",
    "else:\n",
    "    print(\"Enter valid input\")"
   ]
  },
  {
   "cell_type": "code",
   "execution_count": 2,
   "metadata": {},
   "outputs": [
    {
     "name": "stdout",
     "output_type": "stream",
     "text": [
      "The age is: 12\n",
      "Are you a student: yes\n",
      "Ticket Price: $12\n"
     ]
    }
   ],
   "source": [
    "age=int(input(\"Enter the Age:\"))\n",
    "print(f\"The age is: {age}\")\n",
    "student=input(\"Are you a student (yes/no)\").lower()\n",
    "print(f\"Are you a student: {student}\")\n",
    "if age<5:\n",
    "    print(\"Ticket Price: Free\")\n",
    "elif age<12:\n",
    "    print(\"Ticket Price: $10\")\n",
    "elif age<=18:\n",
    "    if student==\"yes\":\n",
    "        print(\"Ticket Price: $12\")\n",
    "    else:\n",
    "        print(\"Ticket Price: $15\")\n",
    "elif age<=64:\n",
    "    if student==\"yes\":\n",
    "        print(\"Ticket Price: $18\")\n",
    "    else:\n",
    "        print(\"Ticket Price: $25\")\n",
    "else:\n",
    "    print(\"Ticket Price: $20\")\n"
   ]
  }
 ],
 "metadata": {
  "kernelspec": {
   "display_name": "Python 3",
   "language": "python",
   "name": "python3"
  },
  "language_info": {
   "codemirror_mode": {
    "name": "ipython",
    "version": 3
   },
   "file_extension": ".py",
   "mimetype": "text/x-python",
   "name": "python",
   "nbconvert_exporter": "python",
   "pygments_lexer": "ipython3",
   "version": "3.13.0"
  }
 },
 "nbformat": 4,
 "nbformat_minor": 2
}
