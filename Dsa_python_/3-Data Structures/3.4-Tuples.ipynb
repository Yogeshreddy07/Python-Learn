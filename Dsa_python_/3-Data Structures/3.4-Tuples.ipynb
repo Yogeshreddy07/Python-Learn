{
 "cells": [
  {
   "cell_type": "markdown",
   "metadata": {},
   "source": [
    "<h1>Tuples</h1>"
   ]
  },
  {
   "cell_type": "code",
   "execution_count": null,
   "metadata": {},
   "outputs": [
    {
     "name": "stdout",
     "output_type": "stream",
     "text": [
      "()\n",
      "<class 'tuple'>\n",
      "(1, 'hello', 3.43, True)\n"
     ]
    }
   ],
   "source": [
    "#**Note ->>\n",
    "# TUPLES ARE IMMUTABLE .meang ther elements cannot be changed once assinged.\n",
    "\n",
    "#empty tuple\n",
    "empty_tuple=()\n",
    "print(empty_tuple)\n",
    "print(type(empty_tuple))\n",
    "\n",
    "#tuple mixed with different data types\n",
    "mixed_tuple=(1,\"hello\",3.43,True)\n",
    "print(mixed_tuple)"
   ]
  },
  {
   "cell_type": "code",
   "execution_count": null,
   "metadata": {},
   "outputs": [
    {
     "name": "stdout",
     "output_type": "stream",
     "text": [
      "(1, 2, 3, 4, 444, 44, 4)\n",
      "2\n",
      "(2, 3, 4)\n"
     ]
    }
   ],
   "source": [
    "#acessing amd\n",
    "number=(1,2,3,4,444,44,4,)\n",
    "print(number)\n",
    "print(number[1])\n",
    "print(number[1:4])\n"
   ]
  },
  {
   "cell_type": "code",
   "execution_count": 8,
   "metadata": {},
   "outputs": [
    {
     "name": "stdout",
     "output_type": "stream",
     "text": [
      "(1, 2, 3, 4, 444, 44, 4, 1, 2, 3, 4, 444, 44, 4)\n",
      "(1, 2, 3, 4, 444, 44, 4, 1, 2, 3, 4, 444, 44, 4, 1, 2, 3, 4, 444, 44, 4, 1, 2, 3, 4, 444, 44, 4, 1, 2, 3, 4, 444, 44, 4, 1, 2, 3, 4, 444, 44, 4)\n"
     ]
    }
   ],
   "source": [
    "number=(1,2,3,4,444,44,4,)\n",
    "number1=(1,2,3,4,444,44,4,)\n",
    "add=number+number1\n",
    "print(add)\n",
    "print(add*3)"
   ]
  },
  {
   "cell_type": "code",
   "execution_count": null,
   "metadata": {},
   "outputs": [
    {
     "name": "stdout",
     "output_type": "stream",
     "text": [
      "1\n",
      "2\n"
     ]
    }
   ],
   "source": [
    "#tuple methods\n",
    "print(number.count(1)) #\n",
    "\n",
    "print(number.index(3)) #print the index thatis present"
   ]
  },
  {
   "cell_type": "code",
   "execution_count": 12,
   "metadata": {},
   "outputs": [
    {
     "name": "stdout",
     "output_type": "stream",
     "text": [
      "(1, 'h', 3.14)\n"
     ]
    }
   ],
   "source": [
    "#packing tuple\n",
    "packed_tuples=1,\"h\",3.14\n",
    "print(packed_tuples)"
   ]
  },
  {
   "cell_type": "code",
   "execution_count": 13,
   "metadata": {},
   "outputs": [
    {
     "name": "stdout",
     "output_type": "stream",
     "text": [
      "1\n",
      "h\n",
      "3.14\n"
     ]
    }
   ],
   "source": [
    "#unpacking a tuple\n",
    "a,b,c=packed_tuples\n",
    "print(a)\n",
    "print(b)\n",
    "print(c)"
   ]
  },
  {
   "cell_type": "code",
   "execution_count": 14,
   "metadata": {},
   "outputs": [
    {
     "name": "stdout",
     "output_type": "stream",
     "text": [
      "1\n",
      "[2, 3, 4, 444, 44]\n",
      "4\n"
     ]
    }
   ],
   "source": [
    "numbers=(1,3,3,4,5,3,4,34,)\n",
    "first,*middle,last=number\n",
    "print(first)\n",
    "print(middle)\n",
    "print(last)"
   ]
  },
  {
   "cell_type": "code",
   "execution_count": 16,
   "metadata": {},
   "outputs": [
    {
     "name": "stdout",
     "output_type": "stream",
     "text": [
      "(1, (22, 33, 4), (3, 4, True))\n",
      "(22, 33, 4)\n"
     ]
    }
   ],
   "source": [
    "#nested tuple\n",
    "tup=(1,(22,33,4),(3,4,True))\n",
    "print(tup)\n",
    "print(tup[1])"
   ]
  },
  {
   "cell_type": "code",
   "execution_count": 20,
   "metadata": {},
   "outputs": [
    {
     "name": "stdout",
     "output_type": "stream",
     "text": [
      "1\n",
      "(22, 33, 4)\n",
      "(3, 4, True)\n"
     ]
    }
   ],
   "source": [
    "#iteration using the tuple\n",
    "for t1 in tup:\n",
    "        print(t1)\n"
   ]
  }
 ],
 "metadata": {
  "kernelspec": {
   "display_name": "Python 3",
   "language": "python",
   "name": "python3"
  },
  "language_info": {
   "codemirror_mode": {
    "name": "ipython",
    "version": 3
   },
   "file_extension": ".py",
   "mimetype": "text/x-python",
   "name": "python",
   "nbconvert_exporter": "python",
   "pygments_lexer": "ipython3",
   "version": "3.13.0"
  }
 },
 "nbformat": 4,
 "nbformat_minor": 2
}
