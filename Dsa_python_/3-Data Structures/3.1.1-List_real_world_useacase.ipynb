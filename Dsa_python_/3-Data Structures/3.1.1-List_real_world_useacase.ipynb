{
 "cells": [
  {
   "cell_type": "markdown",
   "metadata": {},
   "source": [
    "<h1>List_real_world_useacase</h1>"
   ]
  },
  {
   "cell_type": "code",
   "execution_count": 14,
   "metadata": {},
   "outputs": [
    {
     "name": "stdout",
     "output_type": "stream",
     "text": [
      "['Hit Gym', 'Drink Water', 'study Books', 'have good food']\n",
      "['Hit Gym', 'study Books', 'have good food']\n",
      "dont forgot to Hit Gym.\n",
      "To Do List remaining\n",
      "- Hit Gym\n",
      "- study Books\n",
      "- have good food\n"
     ]
    }
   ],
   "source": [
    "#todo list\n",
    "n=int(input(\"enter how many task to add:\"))\n",
    "to_dolist=[\"Hit Gym\", \"Drink Water\" ,\"study Books\"]\n",
    "#adding the tasks\n",
    "for i in range(0,n,1):\n",
    "    in1=input(\"Enter the task No of task to You add:\")\n",
    "    to_dolist.append(in1)\n",
    "print(to_dolist)\n",
    "\n",
    "#removeing the task\n",
    "to_dolist.remove(\"Drink Water\")\n",
    "print(to_dolist)\n",
    "\n",
    "#checking any task in the list\n",
    "if \"Hit Gym\" in to_dolist:\n",
    "    print(\"dont forgot to Hit Gym.\")\n",
    "print(\"To Do List remaining\")\n",
    "\n",
    "for i in to_dolist:\n",
    "    print(f\"- {i}\")\n",
    "\n"
   ]
  },
  {
   "cell_type": "code",
   "execution_count": 18,
   "metadata": {},
   "outputs": [
    {
     "name": "stdout",
     "output_type": "stream",
     "text": [
      "Average Grade :88.00\n",
      "highest grade:95\n",
      "lowest  grade : 78\n"
     ]
    }
   ],
   "source": [
    "#organising the student data\n",
    "grade=[85,92,78,90,88]\n",
    "\n",
    "grade.append(95)\n",
    "\n",
    "avg=sum(grade)/len(grade)\n",
    "print(f\"Average Grade :{avg:.2f}\")\n",
    "highest_grade=max(grade)\n",
    "lowest_grade=min(grade)\n",
    "highest_grade=max(grade)\n",
    "print(f\"highest grade:{highest_grade}\")\n",
    "print(f\"lowest  grade : {lowest_grade}\")"
   ]
  }
 ],
 "metadata": {
  "kernelspec": {
   "display_name": "Python 3",
   "language": "python",
   "name": "python3"
  },
  "language_info": {
   "codemirror_mode": {
    "name": "ipython",
    "version": 3
   },
   "file_extension": ".py",
   "mimetype": "text/x-python",
   "name": "python",
   "nbconvert_exporter": "python",
   "pygments_lexer": "ipython3",
   "version": "3.13.0"
  }
 },
 "nbformat": 4,
 "nbformat_minor": 2
}
