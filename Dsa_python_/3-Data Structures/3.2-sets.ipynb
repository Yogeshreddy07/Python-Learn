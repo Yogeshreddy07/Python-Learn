{
 "cells": [
  {
   "cell_type": "markdown",
   "metadata": {},
   "source": [
    "<h1>Sets</h1>"
   ]
  },
  {
   "cell_type": "code",
   "execution_count": null,
   "metadata": {},
   "outputs": [
    {
     "name": "stdout",
     "output_type": "stream",
     "text": [
      "('1', '2', '3')\n",
      "<class 'tuple'>\n"
     ]
    }
   ],
   "source": [
    "#Set items are unordered, unchangeable, and do not allow duplicate values.\n",
    "s1={\"1\",\"2\",\"3\"}\n",
    "print(s1)\n",
    "print(type(s1))"
   ]
  },
  {
   "cell_type": "code",
   "execution_count": 2,
   "metadata": {},
   "outputs": [
    {
     "name": "stdout",
     "output_type": "stream",
     "text": [
      "<class 'set'>\n",
      "set()\n"
     ]
    }
   ],
   "source": [
    "empty_set=set()\n",
    "print(type(empty_set))\n",
    "print(empty_set)"
   ]
  },
  {
   "cell_type": "code",
   "execution_count": 3,
   "metadata": {},
   "outputs": [
    {
     "name": "stdout",
     "output_type": "stream",
     "text": [
      "<class 'set'>\n",
      "{1, 2, 3, 4, 5, 6, 655, 55}\n"
     ]
    }
   ],
   "source": [
    "d_set=set([1,2,3,4,5,655,6,5,55,5,55,5,5,5])\n",
    "print(type(d_set))\n",
    "print(d_set)"
   ]
  },
  {
   "cell_type": "code",
   "execution_count": 11,
   "metadata": {},
   "outputs": [
    {
     "name": "stdout",
     "output_type": "stream",
     "text": [
      "{1, 2, 3, 4, 5, 6, 7}\n",
      "{2, 3, 4, 5, 6, 7}\n",
      "{2, 3, 4, 5, 6, 7}\n",
      "2\n",
      "{3, 4, 5, 6, 7}\n"
     ]
    }
   ],
   "source": [
    "#Basic set oprators\n",
    "my_set=set([1,2,3,4,5,6,7])\n",
    "#For adding element\n",
    "my_set.add(1,)\n",
    "print(my_set)\n",
    "#For removeing element\n",
    "my_set.remove(1)\n",
    "print(my_set)\n",
    "#For removeing element->that may not present but should not through the key erroro use discard()\n",
    "my_set.discard(10)\n",
    "print(my_set)\n",
    "poped_element=my_set.pop()\n",
    "print(poped_element)\n",
    "print(my_set)"
   ]
  },
  {
   "cell_type": "code",
   "execution_count": 13,
   "metadata": {},
   "outputs": [
    {
     "name": "stdout",
     "output_type": "stream",
     "text": [
      "True\n",
      "False\n"
     ]
    }
   ],
   "source": [
    "#Set membership test\n",
    "my_set\n",
    "print(3 in my_set)\n",
    "print(30 in my_set)\n"
   ]
  },
  {
   "cell_type": "code",
   "execution_count": 23,
   "metadata": {},
   "outputs": [
    {
     "name": "stdout",
     "output_type": "stream",
     "text": [
      "{1, 2, 3, 4, 5, 6, 7, 8, 9}\n",
      "{1, 2, 3, 4, 5, 6, 9}\n",
      "{9, 5, 6}\n",
      "{9, 5, 6}\n"
     ]
    }
   ],
   "source": [
    "#Mathamatical operation\n",
    "\n",
    "#union\n",
    "s1={1,2,3,4,5,6,9}\n",
    "s2={5,6,7,8,9}\n",
    "s3=s1.union(s2)\n",
    "print(s3)\n",
    "\n",
    "#difference\n",
    "s1.difference(s2)\n",
    "print(s1)\n",
    "\n",
    "#intersection\n",
    "s3=s1.intersection(s2)\n",
    "print(s3)\n",
    "\n",
    "#intersection update\n",
    "s1.intersection_update(s2)\n",
    "print(s1)\n",
    "\n"
   ]
  },
  {
   "cell_type": "code",
   "execution_count": null,
   "metadata": {},
   "outputs": [
    {
     "name": "stdout",
     "output_type": "stream",
     "text": [
      "False\n",
      "True\n"
     ]
    }
   ],
   "source": [
    "#subset\n",
    "s1={1,2,3,4,5}\n",
    "s2={2,3,2,2} \n",
    "\n",
    "print(s1.issubset(s2))#all the elements are present the it provides true or else it provides false.\n",
    "print(s1.issuperset(s2)) #finds all elements matchs with another set"
   ]
  },
  {
   "cell_type": "code",
   "execution_count": 26,
   "metadata": {},
   "outputs": [
    {
     "name": "stdout",
     "output_type": "stream",
     "text": [
      "[1, 2, 3, 4, 5, 6, 7]\n"
     ]
    }
   ],
   "source": [
    "lt=[1,2,3,4,4,4,5,6,7]\n",
    "st=set(lt)\n",
    "lt=list(st)\n",
    "print(lt)"
   ]
  },
  {
   "cell_type": "code",
   "execution_count": 30,
   "metadata": {},
   "outputs": [
    {
     "name": "stdout",
     "output_type": "stream",
     "text": [
      "{'this', 'class', 'reading', 'we', 'in', 'are'}\n",
      "9\n"
     ]
    }
   ],
   "source": [
    "#count the unique word in text\n",
    "text=\"in this class we are reading in are in\"\n",
    "words=text.split()\n",
    "print(set(words))\n",
    "print(len(words))"
   ]
  }
 ],
 "metadata": {
  "kernelspec": {
   "display_name": "Python 3",
   "language": "python",
   "name": "python3"
  },
  "language_info": {
   "codemirror_mode": {
    "name": "ipython",
    "version": 3
   },
   "file_extension": ".py",
   "mimetype": "text/x-python",
   "name": "python",
   "nbconvert_exporter": "python",
   "pygments_lexer": "ipython3",
   "version": "3.13.0"
  }
 },
 "nbformat": 4,
 "nbformat_minor": 2
}
