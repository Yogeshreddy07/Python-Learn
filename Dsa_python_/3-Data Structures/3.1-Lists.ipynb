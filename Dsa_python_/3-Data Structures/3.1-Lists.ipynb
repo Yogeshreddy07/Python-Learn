{
 "cells": [
  {
   "cell_type": "markdown",
   "metadata": {},
   "source": [
    "<h1>Lists</h1>"
   ]
  },
  {
   "cell_type": "code",
   "execution_count": 1,
   "metadata": {},
   "outputs": [
    {
     "name": "stdout",
     "output_type": "stream",
     "text": [
      "<class 'list'>\n"
     ]
    }
   ],
   "source": [
    "lst=[]\n",
    "print(type(lst))"
   ]
  },
  {
   "cell_type": "code",
   "execution_count": 2,
   "metadata": {},
   "outputs": [
    {
     "name": "stdout",
     "output_type": "stream",
     "text": [
      "['yogesh', 'reddy', 'mani', 1, 1, 13]\n",
      "[1, 2.2, 'yogesh', True]\n"
     ]
    }
   ],
   "source": [
    "#mixed list \n",
    "names =['yogesh','reddy','mani',1,1,13,]\n",
    "print(names)\n",
    "mixed_list=[1,2.2,\"yogesh\",True]\n",
    "print(mixed_list)"
   ]
  },
  {
   "cell_type": "code",
   "execution_count": 3,
   "metadata": {},
   "outputs": [
    {
     "name": "stdout",
     "output_type": "stream",
     "text": [
      "reddy\n",
      "['reddy', 'mani', 1, 1, 13]\n",
      "13\n",
      "['yogesh', 'reddy', 'mani', 1, 1]\n"
     ]
    }
   ],
   "source": [
    "#accesing list items\n",
    "names =['yogesh','reddy','mani',1,1,13]\n",
    "print(names[1]) #using indexing concept\n",
    "print(names[1:])\n",
    "print(names[-1]) #negative indexing\n",
    "print(names[:-1])"
   ]
  },
  {
   "cell_type": "code",
   "execution_count": 4,
   "metadata": {},
   "outputs": [
    {
     "name": "stdout",
     "output_type": "stream",
     "text": [
      "['yogesh', 'yogesh reddy', 'mani', 1, 1, 13]\n"
     ]
    }
   ],
   "source": [
    "names[1]=\"yogesh reddy\"\n",
    "print(names)"
   ]
  },
  {
   "cell_type": "code",
   "execution_count": 5,
   "metadata": {},
   "outputs": [
    {
     "name": "stdout",
     "output_type": "stream",
     "text": [
      "['yogesh', 'yogesh reddy', 'mani', 1, 1, 13, 'reddyss']\n"
     ]
    }
   ],
   "source": [
    "#list method-->append()\n",
    "names.append(\"reddyss\") #apped used to add at the last index\n",
    "print(names)"
   ]
  },
  {
   "cell_type": "code",
   "execution_count": 6,
   "metadata": {},
   "outputs": [
    {
     "name": "stdout",
     "output_type": "stream",
     "text": [
      "['yogesh', 'jii', 'yogesh reddy', 'mani', 1, 1, 13, 'reddyss']\n"
     ]
    }
   ],
   "source": [
    "#list method-->insert()\n",
    "names.insert(1,\"jii\")\n",
    "print(names) #used at insert at the perticular index"
   ]
  },
  {
   "cell_type": "code",
   "execution_count": 7,
   "metadata": {},
   "outputs": [
    {
     "name": "stdout",
     "output_type": "stream",
     "text": [
      "['yogesh', 'jii', 'yogesh reddy', 'mani', 1, 1, 13]\n"
     ]
    }
   ],
   "source": [
    "#list method-->remove()\n",
    "names.remove(\"reddyss\")\n",
    "print(names) #used at insert at the perticular index"
   ]
  },
  {
   "cell_type": "code",
   "execution_count": 8,
   "metadata": {},
   "outputs": [
    {
     "name": "stdout",
     "output_type": "stream",
     "text": [
      "13\n",
      "['yogesh', 'jii', 'yogesh reddy', 'mani', 1, 1]\n"
     ]
    }
   ],
   "source": [
    "#List Method used to Remove and return the last element --> pop()\n",
    "popped_names=names.pop()\n",
    "print(popped_names)\n",
    "print(names)"
   ]
  },
  {
   "cell_type": "code",
   "execution_count": 9,
   "metadata": {},
   "outputs": [
    {
     "name": "stdout",
     "output_type": "stream",
     "text": [
      "1\n",
      "1\n"
     ]
    }
   ],
   "source": [
    "#List Method -->index() used to find the index of the input element\n",
    "print(names.index(\"jii\"))\n",
    "#List Method -->count()this function is used tocount the occurence of the input element\n",
    "print(names.count(\"jii\"))"
   ]
  },
  {
   "cell_type": "code",
   "execution_count": 10,
   "metadata": {},
   "outputs": [
    {
     "name": "stdout",
     "output_type": "stream",
     "text": [
      "['mani', 'reddy', 'yogesh']\n",
      "['yogesh', 'reddy', 'mani']\n",
      "['mani', 'reddy', 'yogesh']\n"
     ]
    }
   ],
   "source": [
    "#List Method -->sort() its used to sort in assending order\n",
    "names =['yogesh','reddy','mani']\n",
    "names.sort()\n",
    "print(names)\n",
    "#List Method -->sort(reverse=True) its used to sort in descending order\n",
    "names.sort(reverse=True)\n",
    "print(names)\n",
    "#List Method -->reverse() its used to sort in reverse order\n",
    "names.reverse()\n",
    "print(names)\n"
   ]
  },
  {
   "cell_type": "code",
   "execution_count": 11,
   "metadata": {},
   "outputs": [],
   "source": [
    "#List Method -->clear()\n",
    "names.clear()"
   ]
  },
  {
   "cell_type": "code",
   "execution_count": 2,
   "metadata": {},
   "outputs": [
    {
     "name": "stdout",
     "output_type": "stream",
     "text": [
      "[3, 4, 5]\n",
      "[1, 2, 3, 4, 5]\n",
      "[6, 7, 8, 9]\n",
      "[1, 3, 5, 7, 9]\n",
      "[1, 2, 3, 4, 5, 6, 7, 8]\n",
      "[9, 8, 7, 6, 5, 4, 3, 2, 1]\n"
     ]
    }
   ],
   "source": [
    "##slicing list\n",
    "number=[1,2,3,4,5,6,7,8,9]\n",
    "print(number[2:5])\n",
    "print(number[:5])\n",
    "print(number[5:])\n",
    "print(number[::2])   #:: used for jumping porpose\n",
    "print(number[:-1])   #in order it will display\n",
    "print(number[::-1])  #[::-1]-> this is for the ()::)its a jumping function"
   ]
  },
  {
   "cell_type": "code",
   "execution_count": 3,
   "metadata": {},
   "outputs": [
    {
     "name": "stdout",
     "output_type": "stream",
     "text": [
      "1\n",
      "2\n",
      "3\n",
      "4\n",
      "5\n",
      "6\n",
      "7\n",
      "8\n",
      "9\n"
     ]
    }
   ],
   "source": [
    "#iteration\n",
    "for i in number:  \n",
    "    print(i)"
   ]
  },
  {
   "cell_type": "code",
   "execution_count": 5,
   "metadata": {},
   "outputs": [
    {
     "name": "stdout",
     "output_type": "stream",
     "text": [
      "0 1\n",
      "1 2\n",
      "2 3\n",
      "3 4\n",
      "4 5\n",
      "5 6\n",
      "6 7\n",
      "7 8\n",
      "8 9\n"
     ]
    }
   ],
   "source": [
    "for i in range(0,len(number)):\n",
    "    print(f'{i} {number[i]}')"
   ]
  },
  {
   "cell_type": "code",
   "execution_count": 7,
   "metadata": {},
   "outputs": [
    {
     "name": "stdout",
     "output_type": "stream",
     "text": [
      "[0, 1, 4, 9, 16, 25, 36, 49, 64, 81]\n"
     ]
    }
   ],
   "source": [
    "lst=[]\n",
    "for i in range(10):\n",
    "    lst.append(i**2)\n",
    "print(lst)"
   ]
  },
  {
   "cell_type": "code",
   "execution_count": null,
   "metadata": {},
   "outputs": [
    {
     "name": "stdout",
     "output_type": "stream",
     "text": [
      "['w', 'e', 'e', 'e']\n"
     ]
    }
   ],
   "source": [
    "#Tacking input for the list\n",
    "lst=[]\n",
    "n=int(input())\n",
    "for i in range(1,n+1,1):\n",
    "    i=input(\"Enter the name:\")\n",
    "    lst.append(i)\n",
    "print(lst)"
   ]
  },
  {
   "cell_type": "code",
   "execution_count": 12,
   "metadata": {},
   "outputs": [
    {
     "name": "stdout",
     "output_type": "stream",
     "text": [
      "[0, 1, 4, 9, 16, 25, 36, 49, 64, 81]\n"
     ]
    }
   ],
   "source": [
    "#List comprehension\n",
    "square=[num**2 for num in range(10)]\n",
    "print(square)"
   ]
  },
  {
   "cell_type": "code",
   "execution_count": null,
   "metadata": {},
   "outputs": [
    {
     "name": "stdout",
     "output_type": "stream",
     "text": [
      "the even list is[2, 4, 6]\n",
      "the odd list is[1, 3, 5]\n"
     ]
    }
   ],
   "source": [
    "#list adding\n",
    "lst=[] #even\n",
    "lst1=[]#odd\n",
    "for i in range(1,7,1):\n",
    "    if i%2==0:\n",
    "        lst.append(i)        \n",
    "    else:\n",
    "        lst1.append(i)\n",
    "print(f\"the odd list is{lst1}\")\n",
    "print(f\"the even list is{lst}\")\n"
   ]
  },
  {
   "cell_type": "code",
   "execution_count": null,
   "metadata": {},
   "outputs": [
    {
     "name": "stdout",
     "output_type": "stream",
     "text": [
      "[0, 2, 4, 6, 8]\n"
     ]
    }
   ],
   "source": [
    "#List comprehension\n",
    "even_num=[num for num in range(10) if num%2==0]\n",
    "print(even_num)"
   ]
  },
  {
   "cell_type": "code",
   "execution_count": 15,
   "metadata": {},
   "outputs": [
    {
     "name": "stdout",
     "output_type": "stream",
     "text": [
      "[[1, 'a'], [1, 'b'], [1, 'c'], [2, 'a'], [2, 'b'], [2, 'c'], [3, 'a'], [3, 'b'], [3, 'c']]\n"
     ]
    }
   ],
   "source": [
    "#nested list comphrension\n",
    "lst1=[1,2,3]\n",
    "lst2=[\"a\",\"b\",\"c\"]\n",
    "pair=[[i,j]for i in lst1 for j in lst2]\n",
    "print(pair)"
   ]
  },
  {
   "cell_type": "code",
   "execution_count": 18,
   "metadata": {},
   "outputs": [
    {
     "name": "stdout",
     "output_type": "stream",
     "text": [
      "[2, 3, 2, 4]\n"
     ]
    }
   ],
   "source": [
    "words=[\"re\",\"edd\",\"dd\",\"ddys\"]\n",
    "lengths=[len(word)for word in words]\n",
    "print(lengths)"
   ]
  }
 ],
 "metadata": {
  "kernelspec": {
   "display_name": "Python 3",
   "language": "python",
   "name": "python3"
  },
  "language_info": {
   "codemirror_mode": {
    "name": "ipython",
    "version": 3
   },
   "file_extension": ".py",
   "mimetype": "text/x-python",
   "name": "python",
   "nbconvert_exporter": "python",
   "pygments_lexer": "ipython3",
   "version": "3.13.0"
  }
 },
 "nbformat": 4,
 "nbformat_minor": 2
}
