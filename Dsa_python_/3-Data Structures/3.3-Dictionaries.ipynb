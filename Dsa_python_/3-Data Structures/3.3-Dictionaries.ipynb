{
 "cells": [
  {
   "cell_type": "markdown",
   "metadata": {},
   "source": [
    "<h1>Dictionaries</h1>"
   ]
  },
  {
   "cell_type": "code",
   "execution_count": 1,
   "metadata": {},
   "outputs": [
    {
     "name": "stdout",
     "output_type": "stream",
     "text": [
      "{'name': 'yogesh', 'age': 21, 'grade': 9}\n"
     ]
    }
   ],
   "source": [
    "#Dictionaries are used to store data values in key:value pairs.\n",
    "#A dictionary is a collection which is ordered, changeable and do not allow duplicates.\n",
    "dic={\"name\":\"yogesh\",\"age\":21,\"grade\":9}\n",
    "print(dic)\n"
   ]
  },
  {
   "cell_type": "code",
   "execution_count": null,
   "metadata": {},
   "outputs": [
    {
     "name": "stdout",
     "output_type": "stream",
     "text": [
      "yogesh\n",
      "21\n",
      "yogesh\n",
      "21\n",
      "None\n",
      "Not Avilable\n"
     ]
    }
   ],
   "source": [
    "#accesing dict elements\n",
    "print(dic[\"name\"])\n",
    "print(dic[\"age\"])\n",
    "#print(dic[\"age1\"]) #it through the error \n",
    "\n",
    "#accesing dict elements using -->get() function\n",
    "print(dic.get(\"name\"))\n",
    "print(dic.get(\"age\"))\n",
    "print(dic.get(\"age1\"))\n",
    "print(dic.get(\"age2\",\"Not Avilable\"))"
   ]
  },
  {
   "cell_type": "code",
   "execution_count": 12,
   "metadata": {},
   "outputs": [
    {
     "name": "stdout",
     "output_type": "stream",
     "text": [
      "{'name': 'yogesh', 'age': 22, 'grade': 9}\n",
      "{'name': 'yogesh', 'age': 22, 'grade': 9, 'country': 'India'}\n",
      "{'name': 'yogesh', 'age': 22, 'grade': 9}\n",
      "dict_keys(['name', 'age', 'grade'])\n",
      "dict_values(['yogesh', 22, 9])\n",
      "dict_items([('name', 'yogesh'), ('age', 22), ('grade', 9)])\n"
     ]
    }
   ],
   "source": [
    "#modifying Dictonary elements\n",
    "#dictionary are mutable,so you can ,update so ypu can add ,update or delete\n",
    "dic[\"age\"]=22\n",
    "print(dic)\n",
    "\n",
    "dic[\"country\"]=\"India\" # check if key not present the it will create\n",
    "print(dic)\n",
    "\n",
    "del dic[\"country\"] #del () used to delete\n",
    "print(dic)\n",
    "\n",
    "print(dic.keys()) #to get all the keys\n",
    "\n",
    "print(dic.values()) #to get all the values\n",
    "\n",
    "print(dic.items()) #to get all the values\n"
   ]
  },
  {
   "cell_type": "code",
   "execution_count": 18,
   "metadata": {},
   "outputs": [
    {
     "name": "stdout",
     "output_type": "stream",
     "text": [
      "name\n",
      "age\n",
      "grade\n",
      "\n",
      "\n",
      "yogesh\n",
      "22\n",
      "9\n",
      "\n",
      "\n",
      "('name', 'yogesh')\n",
      "('age', 22)\n",
      "('grade', 9)\n",
      "\n",
      "\n",
      "name:yogesh\n",
      "age:22\n",
      "grade:9\n"
     ]
    }
   ],
   "source": [
    "#iteration over the dictionries\n",
    "#you can use to loops to iterate over dictionatries,keys,or items.\n",
    "\n",
    "#keys\n",
    "for keys in   dic.keys():\n",
    "    print(f\"{keys}\")\n",
    "print(\"\\n\")\n",
    "\n",
    "#values\n",
    "for value in   dic.values():\n",
    "    print(f\"{value}\")\n",
    "print(\"\\n\")\n",
    "\n",
    "#values   \n",
    "for item in   dic.items():\n",
    "    print(f\"{item}\")\n",
    "print(\"\\n\")\n",
    "\n",
    "#values in key values with out tuples \n",
    "for key,value in   dic.items():\n",
    "    print(f\"{key}:{value}\")"
   ]
  },
  {
   "cell_type": "code",
   "execution_count": 4,
   "metadata": {},
   "outputs": [
    {
     "name": "stdout",
     "output_type": "stream",
     "text": [
      "{'name': 'yogesh reddy', 'age': 21, 'gpa': 9, 'subjects': {'math': 88, 'physics': 44, 'chem': 44, 'Biology': 34}}\n",
      "<class 'dict'>\n"
     ]
    }
   ],
   "source": [
    "\n",
    "#nested dictionaries\n",
    "student={\n",
    "    \"name\":\"yogesh reddy\",\n",
    "    \"age\":21,\n",
    "    \"gpa\":9,\n",
    "    \"subjects\":{\"math\":88,\"physics\":44,\"chem\":44,\"Biology\":34}\n",
    "}\n",
    "print(student)\n",
    "print(type(student[\"subjects\"]))"
   ]
  },
  {
   "cell_type": "code",
   "execution_count": 5,
   "metadata": {},
   "outputs": [
    {
     "data": {
      "text/plain": [
       "44"
      ]
     },
     "execution_count": 5,
     "metadata": {},
     "output_type": "execute_result"
    }
   ],
   "source": [
    "#Acessing the nested dictioneries\n",
    "student[\"subjects\"][\"chem\"]"
   ]
  },
  {
   "cell_type": "code",
   "execution_count": null,
   "metadata": {},
   "outputs": [
    {
     "name": "stdout",
     "output_type": "stream",
     "text": [
      "1:1\n",
      "2:4\n",
      "3:9\n",
      "4:16\n",
      "5:25\n",
      "6:36\n",
      "7:49\n",
      "8:64\n",
      "9:81\n",
      "{0: 0, 1: 1, 2: 4, 3: 9, 4: 16}\n",
      "{0: 0, 2: 4, 4: 16}\n"
     ]
    }
   ],
   "source": [
    "#using for loop\n",
    "for i in range(1,10,1):\n",
    "    print(f\"{i}:{i**2}\")\n",
    "    \n",
    "#Dictionary Comphrehension\n",
    "squares={x:x**2 for x in range(5)} #it converts to dict\n",
    "print(squares)\n",
    "\n",
    "squares={x:x**2 for x in range(5) if x%2==0} #it converts to dict ad disply only the even numbers\n",
    "print(squares)"
   ]
  },
  {
   "cell_type": "code",
   "execution_count": 9,
   "metadata": {},
   "outputs": [
    {
     "name": "stdout",
     "output_type": "stream",
     "text": [
      "{1: 1, 2: 4, 3: 1, 4: 2, 5: 1, 67: 1}\n"
     ]
    }
   ],
   "source": [
    "numbers=[1,2,2,2,2,3,4,5,67,4]\n",
    "frequency={}\n",
    "for number in numbers:\n",
    "    if number in frequency:\n",
    "        frequency[number]+=1\n",
    "    else:\n",
    "        frequency[number]=1\n",
    "print(frequency)"
   ]
  },
  {
   "cell_type": "code",
   "execution_count": null,
   "metadata": {},
   "outputs": [
    {
     "name": "stdout",
     "output_type": "stream",
     "text": [
      "{'a': 1, 'b': 2, 'c': 1, 'd': 2}\n"
     ]
    }
   ],
   "source": [
    "dict1={\"a\":1,\"b\":2}\n",
    "dict2={\"c\":1,\"d\":2}\n",
    "marge={**dict1,**dict2} #used to marge\n",
    "print(marge)"
   ]
  }
 ],
 "metadata": {
  "kernelspec": {
   "display_name": "Python 3",
   "language": "python",
   "name": "python3"
  },
  "language_info": {
   "codemirror_mode": {
    "name": "ipython",
    "version": 3
   },
   "file_extension": ".py",
   "mimetype": "text/x-python",
   "name": "python",
   "nbconvert_exporter": "python",
   "pygments_lexer": "ipython3",
   "version": "3.13.0"
  }
 },
 "nbformat": 4,
 "nbformat_minor": 2
}
