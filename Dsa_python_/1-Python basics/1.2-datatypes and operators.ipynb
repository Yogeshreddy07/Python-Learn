{
 "cells": [
  {
   "cell_type": "markdown",
   "metadata": {},
   "source": [
    "<h1>DataTypes</h1>"
   ]
  },
  {
   "cell_type": "code",
   "execution_count": 2,
   "metadata": {},
   "outputs": [
    {
     "name": "stdout",
     "output_type": "stream",
     "text": [
      "<class 'int'>\n"
     ]
    }
   ],
   "source": [
    "#interger eample\n",
    "age=22\n",
    "print(type(age))"
   ]
  },
  {
   "cell_type": "code",
   "execution_count": 3,
   "metadata": {},
   "outputs": [
    {
     "name": "stdout",
     "output_type": "stream",
     "text": [
      "age: 18 Type: <class 'int'>\n",
      "height: 6.1 Type: <class 'float'>\n",
      "name: Yogesh Type: <class 'str'>\n",
      "<class 'bool'>\n"
     ]
    }
   ],
   "source": [
    "age=18 #int\n",
    "height=6.1 #float\n",
    "name=\"Yogesh\" # strings\n",
    "is_student=True #Bool\n",
    "\n",
    "print(f\"age: {age} Type: {type(age)}\")\n",
    "print(f\"height: {height} Type: {type(height)}\")\n",
    "print(f\"name: {name} Type: {type(name)}\")\n",
    "print(f\"{type(is_student)}\") #Bool"
   ]
  },
  {
   "cell_type": "code",
   "execution_count": null,
   "metadata": {},
   "outputs": [
    {
     "data": {
      "text/plain": [
       "''"
      ]
     },
     "execution_count": 4,
     "metadata": {},
     "output_type": "execute_result"
    }
   ],
   "source": [
    "#common error\n",
    "\"\"\"\n",
    "result=\"Hello\" + 5 #error\n",
    "\n",
    "result=\"Hello\" + str(5) #no error\n",
    "\n",
    "str= #this is a date type ie cont be a vadiable\n",
    "\"\"\"\n",
    "\n"
   ]
  },
  {
   "cell_type": "code",
   "execution_count": null,
   "metadata": {},
   "outputs": [
    {
     "name": "stdout",
     "output_type": "stream",
     "text": [
      "sum:24\n",
      "diff:20\n",
      "mul:44\n",
      "div:11.0\n",
      "Floor div:11\n",
      "modulo div (Reminder):0\n",
      "Exponential:484\n"
     ]
    }
   ],
   "source": [
    "num1=int(input(\"whats your num1:\"))\n",
    "num2=int(input(\"whats your num2:\"))\n",
    "print(f\"sum:{num1+num2}\")\n",
    "print(f\"diff:{num1-num2}\")\n",
    "print(f\"mul:{num1*num2}\")\n",
    "print(f\"div:{num1/num2}\")\n",
    "print(f\"Floor div:{num1//num2}\") #floor dive used for the reduce the floot values\n",
    "print(f\"modulo div (Reminder):{num1%num2}\")\n",
    "print(f\"Exponential:{num1**num2}\")\n"
   ]
  },
  {
   "cell_type": "code",
   "execution_count": null,
   "metadata": {},
   "outputs": [
    {
     "data": {
      "text/plain": [
       "True"
      ]
     },
     "execution_count": 7,
     "metadata": {},
     "output_type": "execute_result"
    }
   ],
   "source": [
    "#equal to ==\n",
    "a=10\n",
    "b=10\n",
    "a==b"
   ]
  },
  {
   "cell_type": "code",
   "execution_count": 8,
   "metadata": {},
   "outputs": [
    {
     "data": {
      "text/plain": [
       "True"
      ]
     },
     "execution_count": 8,
     "metadata": {},
     "output_type": "execute_result"
    }
   ],
   "source": [
    "#not Equal to !=\n",
    "a=10\n",
    "b=1\n",
    "a!=b"
   ]
  },
  {
   "cell_type": "code",
   "execution_count": null,
   "metadata": {},
   "outputs": [
    {
     "data": {
      "text/plain": [
       "True"
      ]
     },
     "execution_count": 10,
     "metadata": {},
     "output_type": "execute_result"
    }
   ],
   "source": [
    "#less then <\n",
    "print(num1<num2)\n",
    "#greater then >\n",
    "print(num1>num2)\n"
   ]
  },
  {
   "cell_type": "code",
   "execution_count": null,
   "metadata": {},
   "outputs": [
    {
     "name": "stdout",
     "output_type": "stream",
     "text": [
      "True\n",
      "False\n"
     ]
    }
   ],
   "source": [
    "#logical oprators\n",
    "#And ,Or, Not\n",
    "\n",
    "# for  And\n",
    "a=True\n",
    "b=True\n",
    "print(a and b)\n",
    "a=True\n",
    "b=False\n",
    "print(a and b)"
   ]
  },
  {
   "cell_type": "code",
   "execution_count": 14,
   "metadata": {},
   "outputs": [
    {
     "name": "stdout",
     "output_type": "stream",
     "text": [
      "True\n",
      "True\n",
      "False\n"
     ]
    }
   ],
   "source": [
    "# for  Or\n",
    "a=True\n",
    "b=True\n",
    "print(a or b)\n",
    "a=True\n",
    "b=False\n",
    "print(a or b)\n",
    "# for  And\n",
    "a=False\n",
    "b=False\n",
    "print(a and b)"
   ]
  }
 ],
 "metadata": {
  "kernelspec": {
   "display_name": "Python 3",
   "language": "python",
   "name": "python3"
  },
  "language_info": {
   "codemirror_mode": {
    "name": "ipython",
    "version": 3
   },
   "file_extension": ".py",
   "mimetype": "text/x-python",
   "name": "python",
   "nbconvert_exporter": "python",
   "pygments_lexer": "ipython3",
   "version": "3.13.0"
  }
 },
 "nbformat": 4,
 "nbformat_minor": 2
}
