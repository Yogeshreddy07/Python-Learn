{
 "cells": [
  {
   "cell_type": "markdown",
   "metadata": {},
   "source": [
    "<h1>Variables</h1>"
   ]
  },
  {
   "cell_type": "code",
   "execution_count": 2,
   "metadata": {},
   "outputs": [
    {
     "name": "stdout",
     "output_type": "stream",
     "text": [
      "age: 18\n",
      "height: 6.1\n",
      "name: Yogesh\n"
     ]
    }
   ],
   "source": [
    "#variables used to store the data\n",
    "#declaring the variables\n",
    "age=18\n",
    "height=6.1\n",
    "name=\"Yogesh\"\n",
    "is_student=True\n",
    "print(f\"age: {age}\")\n",
    "print(f\"height: {height}\")\n",
    "print(f\"name: {name}\")\n",
    "\n"
   ]
  },
  {
   "cell_type": "code",
   "execution_count": null,
   "metadata": {},
   "outputs": [],
   "source": [
    "#naming convention\n",
    "#they can star with letter or '_'and contains letter,number\n",
    "#valid\n",
    "\"\"\"\n",
    "name\n",
    "user_name \n",
    "\"\"\"\n",
    "#invalid \n",
    "\"\"\"\n",
    "1name -> X\n",
    "user-name\n",
    "\"\"\""
   ]
  },
  {
   "cell_type": "code",
   "execution_count": null,
   "metadata": {},
   "outputs": [
    {
     "name": "stdout",
     "output_type": "stream",
     "text": [
      "age: 18 Type: <class 'int'>\n",
      "height: 6.1 Type: <class 'float'>\n",
      "name: Yogesh Type: <class 'str'>\n",
      "<class 'bool'>\n"
     ]
    }
   ],
   "source": [
    "#python is dynamicaly typed, type of variable is determind in runtime. \n",
    "age=18\n",
    "height=6.1\n",
    "name=\"Yogesh\"\n",
    "is_student=True\n",
    "\n",
    "print(f\"age: {age} Type: {type(age)}\")\n",
    "print(f\"height: {height} Type: {type(height)}\")\n",
    "print(f\"name: {name} Type: {type(name)}\")\n",
    "print(f\"{type(is_student)}\") #Bool"
   ]
  },
  {
   "cell_type": "code",
   "execution_count": null,
   "metadata": {},
   "outputs": [
    {
     "name": "stdout",
     "output_type": "stream",
     "text": [
      "<class 'str'>\n",
      "<class 'int'>\n"
     ]
    }
   ],
   "source": [
    "#type casting\n",
    "age=\"25\"\n",
    "print(type(age))\n",
    "print((type(int(age)))) #number can be typecasted but sentece cant be"
   ]
  },
  {
   "cell_type": "code",
   "execution_count": 7,
   "metadata": {},
   "outputs": [
    {
     "name": "stdout",
     "output_type": "stream",
     "text": [
      "25 <class 'str'>\n",
      "25 <class 'int'>\n",
      "25.77 <class 'float'>\n"
     ]
    }
   ],
   "source": [
    "#Dynamic Typing -> type of variable to change as the program exicutes\n",
    "a=\"25\"\n",
    "print(a,type(a))\n",
    "a=25\n",
    "print(a,type(a))\n",
    "a=25.77\n",
    "print(a,type(a))"
   ]
  },
  {
   "cell_type": "code",
   "execution_count": 9,
   "metadata": {},
   "outputs": [
    {
     "name": "stdout",
     "output_type": "stream",
     "text": [
      "age=33 Type=<class 'int'>\n"
     ]
    }
   ],
   "source": [
    "age=int(input(\"whats your age:\"))\n",
    "print(f\"age={age} Type={type(age)}\")"
   ]
  },
  {
   "cell_type": "code",
   "execution_count": 10,
   "metadata": {},
   "outputs": [
    {
     "name": "stdout",
     "output_type": "stream",
     "text": [
      "sum:24\n",
      "diff:20\n",
      "mul:44\n",
      "div:11.0\n"
     ]
    }
   ],
   "source": [
    "num1=int(input(\"whats your num1:\"))\n",
    "num2=int(input(\"whats your num2:\"))\n",
    "print(f\"sum:{num1+num2}\")\n",
    "print(f\"diff:{num1-num2}\")\n",
    "print(f\"mul:{num1*num2}\")\n",
    "print(f\"div:{num1/num2}\")"
   ]
  }
 ],
 "metadata": {
  "kernelspec": {
   "display_name": "Python 3",
   "language": "python",
   "name": "python3"
  },
  "language_info": {
   "codemirror_mode": {
    "name": "ipython",
    "version": 3
   },
   "file_extension": ".py",
   "mimetype": "text/x-python",
   "name": "python",
   "nbconvert_exporter": "python",
   "pygments_lexer": "ipython3",
   "version": "3.13.0"
  }
 },
 "nbformat": 4,
 "nbformat_minor": 2
}
